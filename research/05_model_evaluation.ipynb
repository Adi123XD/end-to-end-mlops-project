{
 "cells": [
  {
   "cell_type": "code",
   "execution_count": 1,
   "metadata": {},
   "outputs": [],
   "source": [
    "import os "
   ]
  },
  {
   "cell_type": "code",
   "execution_count": 2,
   "metadata": {},
   "outputs": [
    {
     "data": {
      "text/plain": [
       "'d:\\\\mlops\\\\end-to-end-mlops-project\\\\research'"
      ]
     },
     "execution_count": 2,
     "metadata": {},
     "output_type": "execute_result"
    }
   ],
   "source": [
    "%pwd"
   ]
  },
  {
   "cell_type": "code",
   "execution_count": 3,
   "metadata": {},
   "outputs": [],
   "source": [
    "os.chdir(\"../\")"
   ]
  },
  {
   "cell_type": "code",
   "execution_count": 4,
   "metadata": {},
   "outputs": [
    {
     "data": {
      "text/plain": [
       "'d:\\\\mlops\\\\end-to-end-mlops-project'"
      ]
     },
     "execution_count": 4,
     "metadata": {},
     "output_type": "execute_result"
    }
   ],
   "source": [
    "%pwd"
   ]
  },
  {
   "cell_type": "code",
   "execution_count": 5,
   "metadata": {},
   "outputs": [],
   "source": [
    "os.environ['MLFLOW_TRACKING_URI']='https://dagshub.com/Adi123XD/end-to-end-mlops-project.mlflow'\n",
    "os.environ['MLFLOW_TRACKING_USERNAME']='Adi123XD'\n",
    "os.environ['MLFLOW_TRACKING_PASSWORD']='30d8e924fb35865a4187f675e6bd4a5fb5d87221'"
   ]
  },
  {
   "cell_type": "code",
   "execution_count": 6,
   "metadata": {},
   "outputs": [
    {
     "name": "stdout",
     "output_type": "stream",
     "text": [
      "Adi123XD\n"
     ]
    }
   ],
   "source": [
    "print(os.getenv(\"MLFLOW_TRACKING_USERNAME\"))"
   ]
  },
  {
   "cell_type": "code",
   "execution_count": 33,
   "metadata": {},
   "outputs": [],
   "source": [
    "from dataclasses import dataclass\n",
    "from pathlib import Path\n",
    "\n",
    "@dataclass(frozen=True)\n",
    "class ModelEvaluationConfig :\n",
    "  root_dir : Path\n",
    "  test_data_path : Path\n",
    "  model_path : Path\n",
    "  metrics_file_name : Path\n",
    "  all_params : dict \n",
    "  mlflow_uri : str\n",
    "  target_column : str"
   ]
  },
  {
   "cell_type": "code",
   "execution_count": 34,
   "metadata": {},
   "outputs": [
    {
     "name": "stdout",
     "output_type": "stream",
     "text": [
      "https://dagshub.com/Adi123XD/end-to-end-mlops-project.mlflow\n"
     ]
    }
   ],
   "source": [
    "print(os.getenv('MLFLOW_TRACKING_URI'))"
   ]
  },
  {
   "cell_type": "code",
   "execution_count": 35,
   "metadata": {},
   "outputs": [],
   "source": [
    "from mlProject import logger\n",
    "from mlProject.utils.common import read_yaml,create_directories"
   ]
  },
  {
   "cell_type": "code",
   "execution_count": 36,
   "metadata": {},
   "outputs": [],
   "source": [
    "class ConfigurationManager:\n",
    "    def __init__(\n",
    "        self,\n",
    "        config_filepath =Path('D:\\mlops\\end-to-end-mlops-project\\config\\config.yaml'),\n",
    "        params_filepath = Path(\"D:\\mlops\\end-to-end-mlops-project\\params.yaml\"),\n",
    "        schema_filepath = Path(\"D:\\mlops\\end-to-end-mlops-project\\schema.yaml\")):\n",
    "\n",
    "        self.config = read_yaml(config_filepath)\n",
    "        self.params = read_yaml(params_filepath)\n",
    "        self.schema = read_yaml(schema_filepath)\n",
    "\n",
    "        create_directories([self.config.artifacts_root])\n",
    "\n",
    "    def get_model_evaluation_config(self )-> ModelEvaluationConfig:\n",
    "        config = self.config.model_evaluation\n",
    "        params = self.params.ElasticNet\n",
    "        schema = self.schema.TARGET_COLUMN\n",
    "        create_directories([config.root_dir])\n",
    "        model_trainer_config = ModelEvaluationConfig(\n",
    "            root_dir=config.root_dir,\n",
    "            test_data_path= config.test_data_path , \n",
    "            model_path=config.model_path,\n",
    "            metrics_file_name=config.metrics_file_name,\n",
    "            all_params=params,\n",
    "            target_column=schema.name,\n",
    "            mlflow_uri='https://dagshub.com/Adi123XD/end-to-end-mlops-project.mlflow'\n",
    "\n",
    "        )\n",
    "        return model_trainer_config"
   ]
  },
  {
   "cell_type": "code",
   "execution_count": 37,
   "metadata": {},
   "outputs": [],
   "source": [
    "import pandas as pd\n",
    "import joblib \n",
    "import mlflow\n",
    "from urllib.parse import urlparse\n",
    "import numpy as np\n",
    "from sklearn.metrics import mean_absolute_error , mean_squared_error, r2_score\n",
    "import mlflow.sklearn\n",
    "from mlProject.utils.common import save_json"
   ]
  },
  {
   "cell_type": "code",
   "execution_count": 38,
   "metadata": {},
   "outputs": [],
   "source": [
    "class ModelEvaluation :\n",
    "    def __init__(self, config : ModelEvaluationConfig):\n",
    "        self.config  = config\n",
    "\n",
    "    def eval_metrics (self , actual , pred):\n",
    "        rmse = np.sqrt(mean_squared_error(actual , pred))\n",
    "        mae = mean_absolute_error(actual, pred)\n",
    "        r2 = r2_score(actual , pred)\n",
    "        return rmse , mae , r2\n",
    "\n",
    "    def log_into_mlflow ( self ):\n",
    "        test = pd.read_csv(self.config.test_data_path)\n",
    "        model = joblib.load(self.config.model_path)\n",
    "        X_test = test.drop([self.config.target_column],axis =1)\n",
    "        y_test  = test[[self.config.target_column]]\n",
    "        mlflow.set_registry_uri(self.config.mlflow_uri)\n",
    "        tracking_url_type_store = urlparse(mlflow.get_tracking_uri()).scheme\n",
    "\n",
    "        with mlflow.start_run():\n",
    "            predicted_quantities = model.predict (X_test)\n",
    "            (rmse , mae , r2) = self.eval_metrics(y_test , predicted_quantities)\n",
    "\n",
    "            #Saving the metircs score \n",
    "            score = {'rmse':rmse , \"mae\" : mae , 'r2': r2}\n",
    "            save_json(path = Path (self.config.metrics_file_name), data=score)\n",
    "\n",
    "            mlflow.log_params(self.config.all_params)\n",
    "            mlflow.log_metric(\"rmse\" , rmse)\n",
    "            mlflow.log_metric(\"mae\" , mae)\n",
    "            mlflow.log_metric(\"r2\" , r2)\n",
    "            if (tracking_url_type_store != \"file\"):\n",
    "                mlflow.sklearn.log_model(model , \"model\",registered_model_name=\"ElasticnetModel\")\n",
    "            else:\n",
    "                mlflow.sklearn.log_model(model , \"model\")\n"
   ]
  },
  {
   "cell_type": "code",
   "execution_count": 40,
   "metadata": {},
   "outputs": [
    {
     "name": "stdout",
     "output_type": "stream",
     "text": [
      "[2024-03-29 16:52:46,498: INFO : common : yaml file: D:\\mlops\\end-to-end-mlops-project\\config\\config.yaml loaded successfully]\n",
      "[2024-03-29 16:52:46,501: INFO : common : yaml file: D:\\mlops\\end-to-end-mlops-project\\params.yaml loaded successfully]\n",
      "[2024-03-29 16:52:46,508: INFO : common : yaml file: D:\\mlops\\end-to-end-mlops-project\\schema.yaml loaded successfully]\n",
      "[2024-03-29 16:52:46,512: INFO : common : created directory at: artifacts]\n",
      "[2024-03-29 16:52:46,515: INFO : common : created directory at: artifacts/model_evaluation]\n"
     ]
    },
    {
     "name": "stdout",
     "output_type": "stream",
     "text": [
      "[2024-03-29 16:52:47,528: INFO : common : json file saved at: artifacts\\model_evaluation\\metrics.json]\n"
     ]
    },
    {
     "name": "stderr",
     "output_type": "stream",
     "text": [
      "Registered model 'ElasticnetModel' already exists. Creating a new version of this model...\n",
      "2024/03/29 16:53:04 INFO mlflow.tracking._model_registry.client: Waiting up to 300 seconds for model version to finish creation.                     Model name: ElasticnetModel, version 4\n",
      "Created version '4' of model 'ElasticnetModel'.\n"
     ]
    }
   ],
   "source": [
    "try: \n",
    "    config = ConfigurationManager()\n",
    "    model_evaluation_config = config.get_model_evaluation_config()\n",
    "    model_evaluation = ModelEvaluation(config=model_evaluation_config)\n",
    "    model_evaluation.log_into_mlflow()\n",
    "except Exception as e :\n",
    "    logger.exception(e)\n",
    "    raise e"
   ]
  },
  {
   "cell_type": "code",
   "execution_count": null,
   "metadata": {},
   "outputs": [],
   "source": []
  }
 ],
 "metadata": {
  "kernelspec": {
   "display_name": "Python 3",
   "language": "python",
   "name": "python3"
  },
  "language_info": {
   "codemirror_mode": {
    "name": "ipython",
    "version": 3
   },
   "file_extension": ".py",
   "mimetype": "text/x-python",
   "name": "python",
   "nbconvert_exporter": "python",
   "pygments_lexer": "ipython3",
   "version": "3.10.11"
  }
 },
 "nbformat": 4,
 "nbformat_minor": 2
}
